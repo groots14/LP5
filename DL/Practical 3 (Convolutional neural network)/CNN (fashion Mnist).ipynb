{
 "cells": [
  {
   "cell_type": "code",
   "execution_count": null,
   "metadata": {},
   "outputs": [],
   "source": [
    "!pip install git+https://github.com/tensorflow/tensorflow.git@v2.15.0\n",
    "\n",
    "!pip install keras"
   ]
  },
  {
   "cell_type": "code",
   "execution_count": null,
   "metadata": {
    "_cell_guid": "79c7e3d0-c299-4dcb-8224-4455121ee9b0",
    "_uuid": "d629ff2d2480ee46fbb7e2d37f6b5fab8052498a"
   },
   "outputs": [],
   "source": [
    "import numpy as np\n",
    "import pandas as pd\n",
    "import matplotlib.pyplot as plt\n",
    "import seaborn as sbn\n",
    "from sklearn.model_selection import train_test_split\n",
    "from sklearn.metrics import confusion_matrix, classification_report\n",
    "from keras.models import Sequential\n",
    "from keras.layers import Conv2D, MaxPooling2D, Dropout, Dense, Flatten\n",
    "from keras.optimizers import Adam\n",
    "from keras.callbacks import TensorBoard\n",
    "from keras.utils import to_categorical"
   ]
  },
  {
   "cell_type": "code",
   "execution_count": null,
   "metadata": {},
   "outputs": [],
   "source": [
    "fashion_train_df = pd.read_csv('dataset/fashion-mnist_train.csv', sep=',')\n",
    "fashion_test_df = pd.read_csv('dataset//fashion-mnist_test.csv', sep=',')"
   ]
  },
  {
   "cell_type": "code",
   "execution_count": null,
   "metadata": {},
   "outputs": [],
   "source": [
    "fashion_train_df.shape   "
   ]
  },
  {
   "cell_type": "code",
   "execution_count": null,
   "metadata": {},
   "outputs": [],
   "source": [
    "fashion_train_df.columns   "
   ]
  },
  {
   "cell_type": "code",
   "execution_count": null,
   "metadata": {},
   "outputs": [],
   "source": [
    "print(set(fashion_train_df['label']))"
   ]
  },
  {
   "cell_type": "code",
   "execution_count": null,
   "metadata": {},
   "outputs": [],
   "source": [
    "print([fashion_train_df.drop(labels='label', axis=1).min(axis=1).min(), \n",
    "      fashion_train_df.drop(labels='label', axis=1).max(axis=1).max()])"
   ]
  },
  {
   "cell_type": "code",
   "execution_count": null,
   "metadata": {},
   "outputs": [],
   "source": [
    "fashion_train_df.head()"
   ]
  },
  {
   "cell_type": "code",
   "execution_count": null,
   "metadata": {},
   "outputs": [],
   "source": [
    "fashion_test_df.shape"
   ]
  },
  {
   "cell_type": "code",
   "execution_count": null,
   "metadata": {},
   "outputs": [],
   "source": [
    "fashion_test_df.head()"
   ]
  },
  {
   "cell_type": "code",
   "execution_count": null,
   "metadata": {
    "_kg_hide-input": false
   },
   "outputs": [],
   "source": [
    "\n",
    "training = np.asarray(fashion_train_df, dtype='float32')\n",
    "\n",
    "height = 10\n",
    "width = 10\n",
    "\n",
    "fig, axes = plt.subplots(nrows=width, ncols=height, figsize=(17,17))\n",
    "axes = axes.ravel()  \n",
    "n_train = len(training)\n",
    "\n",
    "for i in range(0, height*width):\n",
    "    index = np.random.randint(0, n_train)\n",
    "    axes[i].imshow(training[index, 1:].reshape(28,28))\n",
    "    axes[i].set_title(int(training[index, 0]), fontsize=8)\n",
    "    axes[i].axis('off')\n",
    "    \n",
    "plt.subplots_adjust(hspace=0.5)"
   ]
  },
  {
   "cell_type": "code",
   "execution_count": null,
   "metadata": {},
   "outputs": [],
   "source": [
    "\n",
    "training = np.asarray(fashion_train_df, dtype='float32')\n",
    "X_train = training[:, 1:].reshape([-1,28,28,1])\n",
    "X_train = X_train/255  \n",
    "y_train = training[:, 0]\n",
    "\n",
    "testing = np.asarray(fashion_test_df, dtype='float32')\n",
    "X_test = testing[:, 1:].reshape([-1,28,28,1])\n",
    "X_test = X_test/255   \n",
    "y_test = testing[:, 0]"
   ]
  },
  {
   "cell_type": "code",
   "execution_count": null,
   "metadata": {},
   "outputs": [],
   "source": [
    "\n",
    "X_train, X_val, y_train, y_val = train_test_split(X_train, y_train, test_size=0.2, random_state=12345)    "
   ]
  },
  {
   "cell_type": "code",
   "execution_count": null,
   "metadata": {},
   "outputs": [],
   "source": [
    "\n",
    "print(X_train.shape, X_val.shape, X_test.shape)\n",
    "print(y_train.shape, y_val.shape, y_test.shape)"
   ]
  },
  {
   "cell_type": "code",
   "execution_count": null,
   "metadata": {},
   "outputs": [],
   "source": [
    "cnn_model = Sequential()\n",
    "cnn_model.add(Conv2D(filters=64, kernel_size=(3,3), input_shape=(28,28,1), activation='relu'))\n",
    "cnn_model.add(MaxPooling2D(pool_size = (2,2)))\n",
    "cnn_model.add(Dropout(rate=0.3))\n",
    "cnn_model.add(Flatten())\n",
    "cnn_model.add(Dense(units=32, activation='relu'))\n",
    "cnn_model.add(Dense(units=10, activation='sigmoid'))"
   ]
  },
  {
   "cell_type": "code",
   "execution_count": null,
   "metadata": {},
   "outputs": [],
   "source": [
    "cnn_model.compile(optimizer=Adam(learning_rate=0.001), loss='sparse_categorical_crossentropy', metrics=['accuracy'])\n",
    "cnn_model.summary()"
   ]
  },
  {
   "cell_type": "code",
   "execution_count": null,
   "metadata": {},
   "outputs": [],
   "source": [
    "cnn_model.fit(x=X_train, y=y_train, batch_size=512, epochs=50, validation_data=(X_val, y_val))"
   ]
  },
  {
   "cell_type": "code",
   "execution_count": null,
   "metadata": {},
   "outputs": [],
   "source": [
    "eval_result = cnn_model.evaluate(X_test, y_test)\n",
    "print(\"Accuracy : {:.3f}\".format(eval_result[1]))"
   ]
  },
  {
   "cell_type": "code",
   "execution_count": null,
   "metadata": {},
   "outputs": [],
   "source": [
    "predict_x=cnn_model.predict(X_test) \n",
    "classes_x=np.argmax(predict_x,axis=1)"
   ]
  },
  {
   "cell_type": "code",
   "execution_count": null,
   "metadata": {},
   "outputs": [],
   "source": [
    "height = 10\n",
    "width = 10\n",
    "\n",
    "fig, axes = plt.subplots(nrows=width, ncols=height, figsize=(20,20))\n",
    "axes = axes.ravel()\n",
    "for i in range(0, height*width):\n",
    "    index = np.random.randint(len(classes_x))\n",
    "    axes[i].imshow(X_test[index].reshape((28,28)))\n",
    "    axes[i].set_title(\"True Class : {:0.0f}\\nPrediction : {:d}\".format(y_test[index],classes_x[index]))\n",
    "    axes[i].axis('off')\n",
    "plt.subplots_adjust(hspace=0.9, wspace=0.5)"
   ]
  },
  {
   "cell_type": "code",
   "execution_count": null,
   "metadata": {},
   "outputs": [],
   "source": [
    "cm = confusion_matrix(y_test, classes_x)\n",
    "plt.figure(figsize=(10,5))\n",
    "sbn.heatmap(cm, annot=True)"
   ]
  },
  {
   "cell_type": "code",
   "execution_count": null,
   "metadata": {},
   "outputs": [],
   "source": [
    "num_classes = 10\n",
    "class_names = [\"class {}\".format(i) for i in range(num_classes)]\n",
    "cr = classification_report(y_test, classes_x, target_names=class_names)\n",
    "print(cr)"
   ]
  }
 ],
 "metadata": {
  "kernelspec": {
   "display_name": "Python 3",
   "language": "python",
   "name": "python3"
  },
  "language_info": {
   "codemirror_mode": {
    "name": "ipython",
    "version": 3
   },
   "file_extension": ".py",
   "mimetype": "text/x-python",
   "name": "python",
   "nbconvert_exporter": "python",
   "pygments_lexer": "ipython3",
   "version": "3.12.0"
  }
 },
 "nbformat": 4,
 "nbformat_minor": 4
}
